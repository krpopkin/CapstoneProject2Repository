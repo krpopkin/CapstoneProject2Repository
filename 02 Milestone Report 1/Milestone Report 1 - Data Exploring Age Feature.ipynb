{
 "cells": [
  {
   "cell_type": "markdown",
   "metadata": {},
   "source": [
    "# About this notebook \n",
    "\n",
    "#### Feature: Age\n",
    "\n",
    "This is one of a series of notebooks (one for each feature of interest) that explores the feature for missing data, data characteristics, correlation with the rate of adoption (predictor variable) and other points of interest that might be helpful to know (and deal with) prior to machine learning."
   ]
  },
  {
   "cell_type": "markdown",
   "metadata": {},
   "source": [
    "<div class=\"span5 alert alert-success\">\n",
    "<p> <I> Feature Description: </I> The \"Age\" data represents that age of the pet when listed, in months  \n",
    "    <I> Source: </I> https://www.kaggle.com/c/petfinder-adoption-prediction/data  </p>\n",
    "</div>"
   ]
  },
  {
   "cell_type": "markdown",
   "metadata": {},
   "source": [
    "<div class=\"span5 alert alert-success\">\n",
    "<p> <I> Predictor (Adoption Speed) Description: </I> \n",
    "\n",
    "Contestants are required to predict this value. The value is determined by how quickly, if at all, a pet is adopted.   \n",
    "<br> \n",
    "The values are determined in the following way:   \n",
    "0 - Pet was adopted on the same day as it was listed.    \n",
    "1 - Pet was adopted between 1 and 7 days (1st week) after being listed.    \n",
    "2 - Pet was adopted between 8 and 30 days (1st month) after being listed.    \n",
    "3 - Pet was adopted between 31 and 90 days (2nd & 3rd month) after being listed.    \n",
    "4 - No adoption after 100 days of being listed.    \n",
    "\n",
    "</p>\n",
    "</div>"
   ]
  },
  {
   "cell_type": "code",
   "execution_count": 1,
   "metadata": {},
   "outputs": [
    {
     "name": "stdout",
     "output_type": "stream",
     "text": [
      "C:\\Users\\Ken\\Documents\\KenP\\Applications-DataScience\\SpringboardCourseWork\\CapstoneProject2Repository\\09 PetfindersData\\TrainingData\n"
     ]
    }
   ],
   "source": [
    "import warnings\n",
    "warnings.filterwarnings('ignore')\n",
    "\n",
    "%cd C:\\Users\\Ken\\Documents\\KenP\\Applications-DataScience\\SpringboardCourseWork\\CapstoneProject2Repository\\09 PetfindersData\\TrainingData"
   ]
  },
  {
   "cell_type": "markdown",
   "metadata": {},
   "source": [
    "<div class=\"span5 alert alert-info\">\n",
    "<p> <B>  Imports and Data Loading: </B>  </p>\n",
    "</div>"
   ]
  },
  {
   "cell_type": "code",
   "execution_count": 2,
   "metadata": {},
   "outputs": [],
   "source": [
    "#Imports\n",
    "import pandas as pd\n",
    "import numpy as np\n",
    "import matplotlib.pyplot as plt\n",
    "import seaborn as sns"
   ]
  },
  {
   "cell_type": "code",
   "execution_count": 3,
   "metadata": {},
   "outputs": [
    {
     "data": {
      "text/html": [
       "<div>\n",
       "<style scoped>\n",
       "    .dataframe tbody tr th:only-of-type {\n",
       "        vertical-align: middle;\n",
       "    }\n",
       "\n",
       "    .dataframe tbody tr th {\n",
       "        vertical-align: top;\n",
       "    }\n",
       "\n",
       "    .dataframe thead th {\n",
       "        text-align: right;\n",
       "    }\n",
       "</style>\n",
       "<table border=\"1\" class=\"dataframe\">\n",
       "  <thead>\n",
       "    <tr style=\"text-align: right;\">\n",
       "      <th></th>\n",
       "      <th>Type</th>\n",
       "      <th>Name</th>\n",
       "      <th>Age</th>\n",
       "      <th>Breed1</th>\n",
       "      <th>Breed2</th>\n",
       "      <th>Gender</th>\n",
       "      <th>Color1</th>\n",
       "      <th>Color2</th>\n",
       "      <th>Color3</th>\n",
       "      <th>MaturitySize</th>\n",
       "      <th>...</th>\n",
       "      <th>Health</th>\n",
       "      <th>Quantity</th>\n",
       "      <th>Fee</th>\n",
       "      <th>State</th>\n",
       "      <th>RescuerID</th>\n",
       "      <th>VideoAmt</th>\n",
       "      <th>Description</th>\n",
       "      <th>PetID</th>\n",
       "      <th>PhotoAmt</th>\n",
       "      <th>AdoptionSpeed</th>\n",
       "    </tr>\n",
       "  </thead>\n",
       "  <tbody>\n",
       "    <tr>\n",
       "      <th>0</th>\n",
       "      <td>1</td>\n",
       "      <td>Lil Milo</td>\n",
       "      <td>2</td>\n",
       "      <td>0</td>\n",
       "      <td>26</td>\n",
       "      <td>2</td>\n",
       "      <td>2</td>\n",
       "      <td>0</td>\n",
       "      <td>0</td>\n",
       "      <td>2</td>\n",
       "      <td>...</td>\n",
       "      <td>1</td>\n",
       "      <td>1</td>\n",
       "      <td>0</td>\n",
       "      <td>41326</td>\n",
       "      <td>1a2113010d6048d5410b265347b35c91</td>\n",
       "      <td>0</td>\n",
       "      <td>Milo went missing after a week with her new ad...</td>\n",
       "      <td>375905770</td>\n",
       "      <td>3</td>\n",
       "      <td>3</td>\n",
       "    </tr>\n",
       "  </tbody>\n",
       "</table>\n",
       "<p>1 rows × 24 columns</p>\n",
       "</div>"
      ],
      "text/plain": [
       "   Type      Name  Age  Breed1  Breed2  Gender  Color1  Color2  Color3  \\\n",
       "0     1  Lil Milo    2       0      26       2       2       0       0   \n",
       "\n",
       "   MaturitySize      ...        Health  Quantity  Fee  State  \\\n",
       "0             2      ...             1         1    0  41326   \n",
       "\n",
       "                          RescuerID  VideoAmt  \\\n",
       "0  1a2113010d6048d5410b265347b35c91         0   \n",
       "\n",
       "                                         Description      PetID PhotoAmt  \\\n",
       "0  Milo went missing after a week with her new ad...  375905770        3   \n",
       "\n",
       "   AdoptionSpeed  \n",
       "0              3  \n",
       "\n",
       "[1 rows x 24 columns]"
      ]
     },
     "execution_count": 3,
     "metadata": {},
     "output_type": "execute_result"
    }
   ],
   "source": [
    "#Import the csv file\n",
    "\n",
    "dfi = pd.read_csv('train.csv')\n",
    "dfi.head(1)"
   ]
  },
  {
   "cell_type": "markdown",
   "metadata": {},
   "source": [
    "<div class=\"span5 alert alert-info\">\n",
    "<p> <B>  Missing Data: </B>   \n",
    "There are no missing data values, but there are 10 pet with an age >12 years.  These will probably be dropped from the dataset.\n",
    "</p>\n",
    "</div>"
   ]
  },
  {
   "cell_type": "code",
   "execution_count": 4,
   "metadata": {},
   "outputs": [],
   "source": [
    "#Create Age Dataframe and add an age in years column\n",
    "\n",
    "dfa = dfi[['Age']]\n",
    "dfa['ageinyears'] = round(dfa.Age/12)\n",
    "dfa.columns = ['ageinmonths','ageinyears']"
   ]
  },
  {
   "cell_type": "code",
   "execution_count": 5,
   "metadata": {},
   "outputs": [
    {
     "data": {
      "text/html": [
       "<div>\n",
       "<style scoped>\n",
       "    .dataframe tbody tr th:only-of-type {\n",
       "        vertical-align: middle;\n",
       "    }\n",
       "\n",
       "    .dataframe tbody tr th {\n",
       "        vertical-align: top;\n",
       "    }\n",
       "\n",
       "    .dataframe thead th {\n",
       "        text-align: right;\n",
       "    }\n",
       "</style>\n",
       "<table border=\"1\" class=\"dataframe\">\n",
       "  <thead>\n",
       "    <tr style=\"text-align: right;\">\n",
       "      <th></th>\n",
       "      <th>ageinmonths</th>\n",
       "      <th>ageinyears</th>\n",
       "    </tr>\n",
       "  </thead>\n",
       "  <tbody>\n",
       "    <tr>\n",
       "      <th>% Missing Values</th>\n",
       "      <td>0.0</td>\n",
       "      <td>0.0</td>\n",
       "    </tr>\n",
       "  </tbody>\n",
       "</table>\n",
       "</div>"
      ],
      "text/plain": [
       "                  ageinmonths  ageinyears\n",
       "% Missing Values          0.0         0.0"
      ]
     },
     "execution_count": 5,
     "metadata": {},
     "output_type": "execute_result"
    }
   ],
   "source": [
    "# Percentage of missing values in each column\n",
    "pd.DataFrame(\n",
    "    dfa.isnull().sum() / len(dfa),\n",
    "    columns=['% Missing Values']\n",
    ").transpose()"
   ]
  },
  {
   "cell_type": "markdown",
   "metadata": {},
   "source": [
    "<div class=\"span5 alert alert-info\">\n",
    "<p> <B>  Characteristics of the data: </B>  </p>\n",
    "</div>"
   ]
  },
  {
   "cell_type": "code",
   "execution_count": 6,
   "metadata": {},
   "outputs": [],
   "source": [
    "#Create a dataframe of agecounts in months\n",
    "\n",
    "dfac = dfa['ageinmonths'].value_counts()\n",
    "dfac = dfac.reset_index()\n",
    "\n",
    "dfac.columns = ['ageinmonths','agecount']\n",
    "dfac = dfac.sort_values('ageinmonths')"
   ]
  },
  {
   "cell_type": "code",
   "execution_count": 7,
   "metadata": {},
   "outputs": [
    {
     "data": {
      "image/png": "[encoded data removed]",
      "text/plain": [
       "<Figure size 432x288 with 1 Axes>"
      ]
     },
     "metadata": {},
     "output_type": "display_data"
    }
   ],
   "source": [
    "#Scatterplot of the age data in months (x=age, y = number of pets that age)\n",
    "\n",
    "x = dfac['ageinmonths']\n",
    "y = dfac['agecount']\n",
    "\n",
    "plt.scatter(x, y)\n",
    "plt.title('Pet Age (months)')\n",
    "plt.xlabel('Age in months')\n",
    "plt.ylabel('Number of Pets')\n",
    "plt.show()\n"
   ]
  },
  {
   "cell_type": "code",
   "execution_count": 8,
   "metadata": {},
   "outputs": [],
   "source": [
    "#Create a dataframe of agecounts in years\n",
    "dfacy = dfa['ageinyears'].value_counts()\n",
    "dfacy = dfacy.reset_index()\n",
    "\n",
    "dfacy.columns = ['ageinyears','agecount']\n",
    "dfacy = dfacy.sort_values('ageinyears')\n"
   ]
  },
  {
   "cell_type": "code",
   "execution_count": 9,
   "metadata": {},
   "outputs": [
    {
     "data": {
      "image/png": "[encoded data removed]",
      "text/plain": [
       "<Figure size 432x288 with 1 Axes>"
      ]
     },
     "metadata": {},
     "output_type": "display_data"
    }
   ],
   "source": [
    "#Scatterplot of the age data in years (x=age, y = number of pets that age)\n",
    "\n",
    "x = dfacy['ageinyears']\n",
    "y = dfacy['agecount']\n",
    "\n",
    "plt.scatter(x, y)\n",
    "plt.title('Pet Age (years)')\n",
    "plt.xlabel('Age in years')\n",
    "plt.ylabel('Number of Pets')\n",
    "plt.show()\n"
   ]
  },
  {
   "cell_type": "code",
   "execution_count": 10,
   "metadata": {},
   "outputs": [],
   "source": [
    "#Drop pets with an age greater than 12 years (outlier and likely a data entry error)\n",
    "dfacyd = dfacy[dfacy.ageinyears < 13]"
   ]
  },
  {
   "cell_type": "code",
   "execution_count": 11,
   "metadata": {},
   "outputs": [
    {
     "data": {
      "image/png": "[encoded data removed]",
      "text/plain": [
       "<Figure size 432x288 with 1 Axes>"
      ]
     },
     "metadata": {},
     "output_type": "display_data"
    }
   ],
   "source": [
    "#Bar plot of age in years\n",
    "plt.bar(dfacyd.ageinyears, dfacyd.agecount, color='b', align='center', alpha=0.5)\n",
    "plt.ylabel('Total Pets')\n",
    "plt.title('Pet Count by Age in Years')\n",
    "plt.show()\n",
    " "
   ]
  },
  {
   "cell_type": "markdown",
   "metadata": {},
   "source": [
    "<div class=\"span5 alert alert-info\">\n",
    "<p> <B>  Correlation with the Adoption Rate: </B>   \n",
    "Correlation between age and adoption speed is only 10%\n",
    "</p>\n",
    "</div>"
   ]
  },
  {
   "cell_type": "code",
   "execution_count": 12,
   "metadata": {},
   "outputs": [
    {
     "data": {
      "text/html": [
       "<div>\n",
       "<style scoped>\n",
       "    .dataframe tbody tr th:only-of-type {\n",
       "        vertical-align: middle;\n",
       "    }\n",
       "\n",
       "    .dataframe tbody tr th {\n",
       "        vertical-align: top;\n",
       "    }\n",
       "\n",
       "    .dataframe thead th {\n",
       "        text-align: right;\n",
       "    }\n",
       "</style>\n",
       "<table border=\"1\" class=\"dataframe\">\n",
       "  <thead>\n",
       "    <tr style=\"text-align: right;\">\n",
       "      <th></th>\n",
       "      <th>ageinyears</th>\n",
       "      <th>adoptionspeed</th>\n",
       "      <th>ageinmonths</th>\n",
       "    </tr>\n",
       "  </thead>\n",
       "  <tbody>\n",
       "    <tr>\n",
       "      <th>0</th>\n",
       "      <td>0.0</td>\n",
       "      <td>3</td>\n",
       "      <td>2</td>\n",
       "    </tr>\n",
       "    <tr>\n",
       "      <th>1</th>\n",
       "      <td>0.0</td>\n",
       "      <td>4</td>\n",
       "      <td>4</td>\n",
       "    </tr>\n",
       "    <tr>\n",
       "      <th>2</th>\n",
       "      <td>0.0</td>\n",
       "      <td>2</td>\n",
       "      <td>3</td>\n",
       "    </tr>\n",
       "    <tr>\n",
       "      <th>3</th>\n",
       "      <td>6.0</td>\n",
       "      <td>4</td>\n",
       "      <td>72</td>\n",
       "    </tr>\n",
       "    <tr>\n",
       "      <th>4</th>\n",
       "      <td>0.0</td>\n",
       "      <td>3</td>\n",
       "      <td>2</td>\n",
       "    </tr>\n",
       "  </tbody>\n",
       "</table>\n",
       "</div>"
      ],
      "text/plain": [
       "   ageinyears  adoptionspeed  ageinmonths\n",
       "0         0.0              3            2\n",
       "1         0.0              4            4\n",
       "2         0.0              2            3\n",
       "3         6.0              4           72\n",
       "4         0.0              3            2"
      ]
     },
     "execution_count": 12,
     "metadata": {},
     "output_type": "execute_result"
    }
   ],
   "source": [
    "#Create a dataframe to calculate correlation\n",
    "dfaa = dfi[['Age','AdoptionSpeed']]\n",
    "dfaa['ageinyears'] = round(dfaa.Age/12)\n",
    "dfaa.columns = ['ageinmonths','adoptionspeed','ageinyears']\n",
    "dfaa = dfaa[dfaa.ageinyears < 13]\n",
    "dfaa = dfaa[['ageinyears','adoptionspeed','ageinmonths']]\n",
    "dfaa.head()"
   ]
  },
  {
   "cell_type": "code",
   "execution_count": 13,
   "metadata": {},
   "outputs": [
    {
     "name": "stdout",
     "output_type": "stream",
     "text": [
      "Correlation value: 10.09%\n"
     ]
    }
   ],
   "source": [
    "#Calculate pearson correlation between pet age and adoption speed\n",
    "def pearson_r(x,y):\n",
    "    corr_mat = np.corrcoef(x,y)\n",
    "\n",
    "    return corr_mat[0,1]\n",
    "\n",
    "# Compute Pearson correlation coefficient\n",
    "r = pearson_r(dfaa.ageinyears,dfaa.adoptionspeed)\n",
    "\n",
    "# Print the result\n",
    "print('Correlation value: ' + str(round(r,4)*100) + '%')"
   ]
  },
  {
   "cell_type": "markdown",
   "metadata": {},
   "source": [
    "<div class=\"span5 alert alert-info\">\n",
    "<p> <B>  Other Points of Interest: </B>  \n",
    "1. Adoption rate of pets <1 year old rounds up to 80%, while pets over 9 years old have around a 50% adoption rate.\n",
    "</p>\n",
    "</div>"
   ]
  },
  {
   "cell_type": "code",
   "execution_count": 14,
   "metadata": {},
   "outputs": [
    {
     "data": {
      "text/html": [
       "<div>\n",
       "<style scoped>\n",
       "    .dataframe tbody tr th:only-of-type {\n",
       "        vertical-align: middle;\n",
       "    }\n",
       "\n",
       "    .dataframe tbody tr th {\n",
       "        vertical-align: top;\n",
       "    }\n",
       "\n",
       "    .dataframe thead th {\n",
       "        text-align: right;\n",
       "    }\n",
       "</style>\n",
       "<table border=\"1\" class=\"dataframe\">\n",
       "  <thead>\n",
       "    <tr style=\"text-align: right;\">\n",
       "      <th></th>\n",
       "      <th>oneday</th>\n",
       "      <th>oneweek</th>\n",
       "      <th>onemonth</th>\n",
       "      <th>threemonths</th>\n",
       "      <th>notadopted</th>\n",
       "      <th>totals</th>\n",
       "      <th>%adoptedinoneday</th>\n",
       "      <th>%notadopted</th>\n",
       "    </tr>\n",
       "    <tr>\n",
       "      <th>ageinyears</th>\n",
       "      <th></th>\n",
       "      <th></th>\n",
       "      <th></th>\n",
       "      <th></th>\n",
       "      <th></th>\n",
       "      <th></th>\n",
       "      <th></th>\n",
       "      <th></th>\n",
       "    </tr>\n",
       "  </thead>\n",
       "  <tbody>\n",
       "    <tr>\n",
       "      <th>0.0</th>\n",
       "      <td>274.0</td>\n",
       "      <td>2357.0</td>\n",
       "      <td>3043.0</td>\n",
       "      <td>2301.0</td>\n",
       "      <td>2239.0</td>\n",
       "      <td>10214</td>\n",
       "      <td>0.03</td>\n",
       "      <td>0.22</td>\n",
       "    </tr>\n",
       "    <tr>\n",
       "      <th>1.0</th>\n",
       "      <td>68.0</td>\n",
       "      <td>312.0</td>\n",
       "      <td>489.0</td>\n",
       "      <td>451.0</td>\n",
       "      <td>989.0</td>\n",
       "      <td>2309</td>\n",
       "      <td>0.03</td>\n",
       "      <td>0.43</td>\n",
       "    </tr>\n",
       "    <tr>\n",
       "      <th>2.0</th>\n",
       "      <td>35.0</td>\n",
       "      <td>175.0</td>\n",
       "      <td>179.0</td>\n",
       "      <td>226.0</td>\n",
       "      <td>444.0</td>\n",
       "      <td>1059</td>\n",
       "      <td>0.03</td>\n",
       "      <td>0.42</td>\n",
       "    </tr>\n",
       "    <tr>\n",
       "      <th>3.0</th>\n",
       "      <td>9.0</td>\n",
       "      <td>87.0</td>\n",
       "      <td>101.0</td>\n",
       "      <td>76.0</td>\n",
       "      <td>214.0</td>\n",
       "      <td>487</td>\n",
       "      <td>0.02</td>\n",
       "      <td>0.44</td>\n",
       "    </tr>\n",
       "    <tr>\n",
       "      <th>4.0</th>\n",
       "      <td>6.0</td>\n",
       "      <td>64.0</td>\n",
       "      <td>71.0</td>\n",
       "      <td>60.0</td>\n",
       "      <td>121.0</td>\n",
       "      <td>322</td>\n",
       "      <td>0.02</td>\n",
       "      <td>0.38</td>\n",
       "    </tr>\n",
       "    <tr>\n",
       "      <th>5.0</th>\n",
       "      <td>6.0</td>\n",
       "      <td>51.0</td>\n",
       "      <td>56.0</td>\n",
       "      <td>50.0</td>\n",
       "      <td>65.0</td>\n",
       "      <td>228</td>\n",
       "      <td>0.03</td>\n",
       "      <td>0.29</td>\n",
       "    </tr>\n",
       "    <tr>\n",
       "      <th>6.0</th>\n",
       "      <td>5.0</td>\n",
       "      <td>10.0</td>\n",
       "      <td>39.0</td>\n",
       "      <td>33.0</td>\n",
       "      <td>39.0</td>\n",
       "      <td>126</td>\n",
       "      <td>0.04</td>\n",
       "      <td>0.31</td>\n",
       "    </tr>\n",
       "    <tr>\n",
       "      <th>7.0</th>\n",
       "      <td>2.0</td>\n",
       "      <td>15.0</td>\n",
       "      <td>30.0</td>\n",
       "      <td>34.0</td>\n",
       "      <td>32.0</td>\n",
       "      <td>113</td>\n",
       "      <td>0.02</td>\n",
       "      <td>0.28</td>\n",
       "    </tr>\n",
       "    <tr>\n",
       "      <th>8.0</th>\n",
       "      <td>3.0</td>\n",
       "      <td>8.0</td>\n",
       "      <td>14.0</td>\n",
       "      <td>11.0</td>\n",
       "      <td>16.0</td>\n",
       "      <td>52</td>\n",
       "      <td>0.06</td>\n",
       "      <td>0.31</td>\n",
       "    </tr>\n",
       "    <tr>\n",
       "      <th>9.0</th>\n",
       "      <td>1.0</td>\n",
       "      <td>3.0</td>\n",
       "      <td>4.0</td>\n",
       "      <td>4.0</td>\n",
       "      <td>11.0</td>\n",
       "      <td>23</td>\n",
       "      <td>0.04</td>\n",
       "      <td>0.48</td>\n",
       "    </tr>\n",
       "    <tr>\n",
       "      <th>10.0</th>\n",
       "      <td>1.0</td>\n",
       "      <td>6.0</td>\n",
       "      <td>8.0</td>\n",
       "      <td>4.0</td>\n",
       "      <td>17.0</td>\n",
       "      <td>36</td>\n",
       "      <td>0.03</td>\n",
       "      <td>0.47</td>\n",
       "    </tr>\n",
       "    <tr>\n",
       "      <th>11.0</th>\n",
       "      <td>NaN</td>\n",
       "      <td>1.0</td>\n",
       "      <td>1.0</td>\n",
       "      <td>4.0</td>\n",
       "      <td>3.0</td>\n",
       "      <td>9</td>\n",
       "      <td>NaN</td>\n",
       "      <td>0.33</td>\n",
       "    </tr>\n",
       "    <tr>\n",
       "      <th>12.0</th>\n",
       "      <td>NaN</td>\n",
       "      <td>1.0</td>\n",
       "      <td>1.0</td>\n",
       "      <td>1.0</td>\n",
       "      <td>2.0</td>\n",
       "      <td>5</td>\n",
       "      <td>NaN</td>\n",
       "      <td>0.40</td>\n",
       "    </tr>\n",
       "    <tr>\n",
       "      <th>All</th>\n",
       "      <td>410.0</td>\n",
       "      <td>3090.0</td>\n",
       "      <td>4036.0</td>\n",
       "      <td>3255.0</td>\n",
       "      <td>4192.0</td>\n",
       "      <td>14983</td>\n",
       "      <td>0.03</td>\n",
       "      <td>0.28</td>\n",
       "    </tr>\n",
       "  </tbody>\n",
       "</table>\n",
       "</div>"
      ],
      "text/plain": [
       "            oneday  oneweek  onemonth  threemonths  notadopted  totals  \\\n",
       "ageinyears                                                               \n",
       "0.0          274.0   2357.0    3043.0       2301.0      2239.0   10214   \n",
       "1.0           68.0    312.0     489.0        451.0       989.0    2309   \n",
       "2.0           35.0    175.0     179.0        226.0       444.0    1059   \n",
       "3.0            9.0     87.0     101.0         76.0       214.0     487   \n",
       "4.0            6.0     64.0      71.0         60.0       121.0     322   \n",
       "5.0            6.0     51.0      56.0         50.0        65.0     228   \n",
       "6.0            5.0     10.0      39.0         33.0        39.0     126   \n",
       "7.0            2.0     15.0      30.0         34.0        32.0     113   \n",
       "8.0            3.0      8.0      14.0         11.0        16.0      52   \n",
       "9.0            1.0      3.0       4.0          4.0        11.0      23   \n",
       "10.0           1.0      6.0       8.0          4.0        17.0      36   \n",
       "11.0           NaN      1.0       1.0          4.0         3.0       9   \n",
       "12.0           NaN      1.0       1.0          1.0         2.0       5   \n",
       "All          410.0   3090.0    4036.0       3255.0      4192.0   14983   \n",
       "\n",
       "            %adoptedinoneday  %notadopted  \n",
       "ageinyears                                 \n",
       "0.0                     0.03         0.22  \n",
       "1.0                     0.03         0.43  \n",
       "2.0                     0.03         0.42  \n",
       "3.0                     0.02         0.44  \n",
       "4.0                     0.02         0.38  \n",
       "5.0                     0.03         0.29  \n",
       "6.0                     0.04         0.31  \n",
       "7.0                     0.02         0.28  \n",
       "8.0                     0.06         0.31  \n",
       "9.0                     0.04         0.48  \n",
       "10.0                    0.03         0.47  \n",
       "11.0                     NaN         0.33  \n",
       "12.0                     NaN         0.40  \n",
       "All                     0.03         0.28  "
      ]
     },
     "execution_count": 14,
     "metadata": {},
     "output_type": "execute_result"
    }
   ],
   "source": [
    "#Create a pivot table of adoption speed versus age.\n",
    "#dfaas = dfaa[['ageinyears','adoptionspeed']]\n",
    "dfasa = dfaa.pivot_table(columns='adoptionspeed', index='ageinyears', values='ageinmonths', aggfunc='count',margins=True)\n",
    "dfasa.columns = ['oneday','oneweek','onemonth','threemonths','notadopted','totals']\n",
    "\n",
    "dfasa['%adoptedinoneday'] = round(dfasa.oneday/dfasa.totals,2)\n",
    "dfasa['%notadopted'] = round(dfasa.notadopted/dfasa.totals,2)\n",
    "dfasa"
   ]
  }
 ],
 "metadata": {
  "kernelspec": {
   "display_name": "Python 3",
   "language": "python",
   "name": "python3"
  },
  "language_info": {
   "codemirror_mode": {
    "name": "ipython",
    "version": 3
   },
   "file_extension": ".py",
   "mimetype": "text/x-python",
   "name": "python",
   "nbconvert_exporter": "python",
   "pygments_lexer": "ipython3",
   "version": "3.6.5"
  }
 },
 "nbformat": 4,
 "nbformat_minor": 2
}
