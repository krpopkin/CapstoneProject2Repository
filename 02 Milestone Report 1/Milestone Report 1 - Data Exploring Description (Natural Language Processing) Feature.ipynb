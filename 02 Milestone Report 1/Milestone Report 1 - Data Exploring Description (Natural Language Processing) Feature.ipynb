{
 "cells": [
  {
   "cell_type": "markdown",
   "metadata": {},
   "source": [
    "# About this notebook \n",
    "\n",
    "#### Feature: Description\n",
    "\n",
    "This is one of a series of notebooks (one for each feature of interest) that explores the feature.  The Description feature requires engagement of natural language processing (NLP), so the exploration of this feature varies from that of the other features."
   ]
  },
  {
   "cell_type": "markdown",
   "metadata": {},
   "source": [
    "<div class=\"span5 alert alert-success\">\n",
    "<p> <I> Feature Description: </I> The \"Description\" data is a profile write-up for each pet.  The Description data will be explored via...   \n",
    "    1. converting a dataframe of the Description data to a text file   \n",
    "    2. converting the text file to a list of sentences and to a list of words   \n",
    "    3. create a histogram of word length counts   \n",
    "     <br>\n",
    "    <I> Source: </I> https://www.kaggle.com/c/petfinder-adoption-prediction/data  </p>\n",
    "</div>"
   ]
  },
  {
   "cell_type": "markdown",
   "metadata": {},
   "source": [
    "<div class=\"span5 alert alert-success\">\n",
    "<p> <I> Predictor (Adoption Speed) Description: </I> \n",
    "\n",
    "Contestants are required to predict this value. The value is determined by how quickly, if at all, a pet is adopted.   \n",
    "<br> \n",
    "The values are determined in the following way:   \n",
    "0 - Pet was adopted on the same day as it was listed.    \n",
    "1 - Pet was adopted between 1 and 7 days (1st week) after being listed.    \n",
    "2 - Pet was adopted between 8 and 30 days (1st month) after being listed.    \n",
    "3 - Pet was adopted between 31 and 90 days (2nd & 3rd month) after being listed.    \n",
    "4 - No adoption after 100 days of being listed.    \n",
    "\n",
    "</p>\n",
    "</div>"
   ]
  },
  {
   "cell_type": "code",
   "execution_count": 38,
   "metadata": {},
   "outputs": [
    {
     "name": "stdout",
     "output_type": "stream",
     "text": [
      "C:\\Users\\Ken\\Documents\\KenP\\Applications-DataScience\\SpringboardCourseWork\\CapstoneProject2Repository\\09 PetfindersData\\TrainingData\n"
     ]
    }
   ],
   "source": [
    "import warnings\n",
    "warnings.filterwarnings('ignore')\n",
    "\n",
    "%cd C:\\Users\\Ken\\Documents\\KenP\\Applications-DataScience\\SpringboardCourseWork\\CapstoneProject2Repository\\09 PetfindersData\\TrainingData"
   ]
  },
  {
   "cell_type": "markdown",
   "metadata": {},
   "source": [
    "<div class=\"span5 alert alert-info\">\n",
    "<p> <B>  Imports and Data Loading: </B>  </p>\n",
    "</div>"
   ]
  },
  {
   "cell_type": "code",
   "execution_count": 39,
   "metadata": {},
   "outputs": [],
   "source": [
    "#Imports\n",
    "import pandas as pd\n",
    "import numpy as np\n",
    "import matplotlib.pyplot as plt\n",
    "import seaborn as sns\n",
    "import nltk"
   ]
  },
  {
   "cell_type": "code",
   "execution_count": 40,
   "metadata": {},
   "outputs": [],
   "source": [
    "#import nltk\n",
    "#nltk.download('punkt')"
   ]
  },
  {
   "cell_type": "code",
   "execution_count": 41,
   "metadata": {},
   "outputs": [
    {
     "data": {
      "text/html": [
       "<div>\n",
       "<style scoped>\n",
       "    .dataframe tbody tr th:only-of-type {\n",
       "        vertical-align: middle;\n",
       "    }\n",
       "\n",
       "    .dataframe tbody tr th {\n",
       "        vertical-align: top;\n",
       "    }\n",
       "\n",
       "    .dataframe thead th {\n",
       "        text-align: right;\n",
       "    }\n",
       "</style>\n",
       "<table border=\"1\" class=\"dataframe\">\n",
       "  <thead>\n",
       "    <tr style=\"text-align: right;\">\n",
       "      <th></th>\n",
       "      <th>Type</th>\n",
       "      <th>Name</th>\n",
       "      <th>Age</th>\n",
       "      <th>Breed1</th>\n",
       "      <th>Breed2</th>\n",
       "      <th>Gender</th>\n",
       "      <th>Color1</th>\n",
       "      <th>Color2</th>\n",
       "      <th>Color3</th>\n",
       "      <th>MaturitySize</th>\n",
       "      <th>...</th>\n",
       "      <th>Health</th>\n",
       "      <th>Quantity</th>\n",
       "      <th>Fee</th>\n",
       "      <th>State</th>\n",
       "      <th>RescuerID</th>\n",
       "      <th>VideoAmt</th>\n",
       "      <th>Description</th>\n",
       "      <th>PetID</th>\n",
       "      <th>PhotoAmt</th>\n",
       "      <th>AdoptionSpeed</th>\n",
       "    </tr>\n",
       "  </thead>\n",
       "  <tbody>\n",
       "    <tr>\n",
       "      <th>0</th>\n",
       "      <td>1</td>\n",
       "      <td>Lil Milo</td>\n",
       "      <td>2</td>\n",
       "      <td>0</td>\n",
       "      <td>26</td>\n",
       "      <td>2</td>\n",
       "      <td>2</td>\n",
       "      <td>0</td>\n",
       "      <td>0</td>\n",
       "      <td>2</td>\n",
       "      <td>...</td>\n",
       "      <td>1</td>\n",
       "      <td>1</td>\n",
       "      <td>0</td>\n",
       "      <td>41326</td>\n",
       "      <td>1a2113010d6048d5410b265347b35c91</td>\n",
       "      <td>0</td>\n",
       "      <td>Milo went missing after a week with her new ad...</td>\n",
       "      <td>375905770</td>\n",
       "      <td>3</td>\n",
       "      <td>3</td>\n",
       "    </tr>\n",
       "  </tbody>\n",
       "</table>\n",
       "<p>1 rows × 24 columns</p>\n",
       "</div>"
      ],
      "text/plain": [
       "   Type      Name  Age  Breed1  Breed2  Gender  Color1  Color2  Color3  \\\n",
       "0     1  Lil Milo    2       0      26       2       2       0       0   \n",
       "\n",
       "   MaturitySize      ...        Health  Quantity  Fee  State  \\\n",
       "0             2      ...             1         1    0  41326   \n",
       "\n",
       "                          RescuerID  VideoAmt  \\\n",
       "0  1a2113010d6048d5410b265347b35c91         0   \n",
       "\n",
       "                                         Description      PetID PhotoAmt  \\\n",
       "0  Milo went missing after a week with her new ad...  375905770        3   \n",
       "\n",
       "   AdoptionSpeed  \n",
       "0              3  \n",
       "\n",
       "[1 rows x 24 columns]"
      ]
     },
     "execution_count": 41,
     "metadata": {},
     "output_type": "execute_result"
    }
   ],
   "source": [
    "#Import the csv file\n",
    "\n",
    "dfi = pd.read_csv('train.csv')\n",
    "dfi.head(1)"
   ]
  },
  {
   "cell_type": "markdown",
   "metadata": {},
   "source": [
    "<div class=\"span5 alert alert-info\">\n",
    "<p> <B>  Missing Data: </B>  </p>\n",
    "</div>"
   ]
  },
  {
   "cell_type": "code",
   "execution_count": 42,
   "metadata": {},
   "outputs": [],
   "source": [
    "#Create Type Dataframe\n",
    "\n",
    "dfa = dfi[['Description']]\n",
    "dfa.columns = ['description']"
   ]
  },
  {
   "cell_type": "code",
   "execution_count": 43,
   "metadata": {},
   "outputs": [
    {
     "data": {
      "text/html": [
       "<div>\n",
       "<style scoped>\n",
       "    .dataframe tbody tr th:only-of-type {\n",
       "        vertical-align: middle;\n",
       "    }\n",
       "\n",
       "    .dataframe tbody tr th {\n",
       "        vertical-align: top;\n",
       "    }\n",
       "\n",
       "    .dataframe thead th {\n",
       "        text-align: right;\n",
       "    }\n",
       "</style>\n",
       "<table border=\"1\" class=\"dataframe\">\n",
       "  <thead>\n",
       "    <tr style=\"text-align: right;\">\n",
       "      <th></th>\n",
       "      <th>description</th>\n",
       "    </tr>\n",
       "  </thead>\n",
       "  <tbody>\n",
       "    <tr>\n",
       "      <th>% Missing Values</th>\n",
       "      <td>0.0008</td>\n",
       "    </tr>\n",
       "  </tbody>\n",
       "</table>\n",
       "</div>"
      ],
      "text/plain": [
       "                  description\n",
       "% Missing Values       0.0008"
      ]
     },
     "execution_count": 43,
     "metadata": {},
     "output_type": "execute_result"
    }
   ],
   "source": [
    "# Percentage of missing values in each column\n",
    "pd.DataFrame(\n",
    "    dfa.isnull().sum() / len(dfa),\n",
    "    columns=['% Missing Values']\n",
    ").transpose()"
   ]
  },
  {
   "cell_type": "markdown",
   "metadata": {},
   "source": [
    "<div class=\"span5 alert alert-info\">\n",
    "<p> <B>  Preparing the text data </B>  </p>\n",
    "</div>"
   ]
  },
  {
   "cell_type": "code",
   "execution_count": 44,
   "metadata": {},
   "outputs": [],
   "source": [
    "#save all pets' descriptions to a text file\n",
    "np.savetxt('petdescriptions.txt', dfa.values,fmt='%s',encoding=\"utf-8\")"
   ]
  },
  {
   "cell_type": "code",
   "execution_count": 45,
   "metadata": {},
   "outputs": [],
   "source": [
    "# load the text file\n",
    "filename = 'petdescriptions.txt'\n",
    "file = open(filename, 'rt',encoding=\"utf8\")\n",
    "text = file.read()\n",
    "file.close()"
   ]
  },
  {
   "cell_type": "code",
   "execution_count": 46,
   "metadata": {},
   "outputs": [
    {
     "name": "stdout",
     "output_type": "stream",
     "text": [
      "Milo went missing after a week with her new adoptive family.\n"
     ]
    }
   ],
   "source": [
    "# split text file into sentences\n",
    "sentences = nltk.sent_tokenize(text)\n",
    "print(sentences[0])"
   ]
  },
  {
   "cell_type": "code",
   "execution_count": 47,
   "metadata": {},
   "outputs": [
    {
     "name": "stdout",
     "output_type": "stream",
     "text": [
      "['Milo', 'went', 'missing', 'after', 'a', 'week', 'with', 'her', 'new', 'adoptive', 'family', '.', 'Only', '3', 'months', 'old', ',', 'light', 'brown', 'coat', '.', 'Missing', 'from', 'Jalan', 'Kiara', ',', 'Bandar', 'Botanic', ',', 'Klang', '.', 'Please', 'call', 'Su', 'at', 'if', 'you', \"'ve\", 'seen', 'her', '.', 'She', \"'s\", 'only', '4', 'months', 'old', ',', 'very', 'friendly', 'and', 'loving', '.', 'Loves', 'attention', '.', 'A', 'little', 'naughty', 'sometimes', '.', 'But', 'she', \"'s\", 'adorable', '.', 'I', 'adopted', 'her', 'from', 'MDDB', ',', 'but', 'recently', 'I', 'have', 'just', 'moved', 'to', 'a', 'condo', '.', 'Im', 'finding', 'a', 'perfect', 'and', 'loving', 'home', 'for', 'her', '.', 'Mama', 'cat', 'came', 'to', 'house', 'and', 'gave', 'birth']\n"
     ]
    }
   ],
   "source": [
    "#split text file into words\n",
    "tokens = nltk.word_tokenize(text)\n",
    "print(tokens[:100])"
   ]
  },
  {
   "cell_type": "code",
   "execution_count": 48,
   "metadata": {},
   "outputs": [
    {
     "name": "stdout",
     "output_type": "stream",
     "text": [
      "['Milo', 'went', 'missing', 'after', 'a', 'week', 'with', 'her', 'new', 'adoptive', 'family', 'Only', 'months', 'old', 'light', 'brown', 'coat', 'Missing', 'from', 'Jalan', 'Kiara', 'Bandar', 'Botanic', 'Klang', 'Please', 'call', 'Su', 'at', 'if', 'you', 'seen', 'her', 'She', 'only', 'months', 'old', 'very', 'friendly', 'and', 'loving', 'Loves', 'attention', 'A', 'little', 'naughty', 'sometimes', 'But', 'she', 'adorable', 'I', 'adopted', 'her', 'from', 'MDDB', 'but', 'recently', 'I', 'have', 'just', 'moved', 'to', 'a', 'condo', 'Im', 'finding', 'a', 'perfect', 'and', 'loving', 'home', 'for', 'her', 'Mama', 'cat', 'came', 'to', 'house', 'and', 'gave', 'birth', 'to', 'these', 'lovely', 'kittens', 'please', 'adopt', 'them', 'and', 'give', 'them', 'a', 'home', 'sweet', 'home', 'He', 'is', 'a', 'stray', 'dog', 'found']\n"
     ]
    }
   ],
   "source": [
    "#remove all tokens that are not alphabetic\n",
    "words = [word for word in tokens if word.isalpha()]\n",
    "print(words[:100])"
   ]
  },
  {
   "cell_type": "code",
   "execution_count": 49,
   "metadata": {},
   "outputs": [
    {
     "name": "stdout",
     "output_type": "stream",
     "text": [
      "['milo', 'went', 'missing', 'after', 'a', 'week', 'with', 'her', 'new', 'adoptive', 'family', 'only', 'months', 'old', 'light', 'brown', 'coat', 'missing', 'from', 'jalan', 'kiara', 'bandar', 'botanic', 'klang', 'please', 'call', 'su', 'at', 'if', 'you', 'seen', 'her', 'she', 'only', 'months', 'old', 'very', 'friendly', 'and', 'loving', 'loves', 'attention', 'a', 'little', 'naughty', 'sometimes', 'but', 'she', 'adorable', 'i', 'adopted', 'her', 'from', 'mddb', 'but', 'recently', 'i', 'have', 'just', 'moved', 'to', 'a', 'condo', 'im', 'finding', 'a', 'perfect', 'and', 'loving', 'home', 'for', 'her', 'mama', 'cat', 'came', 'to', 'house', 'and', 'gave', 'birth', 'to', 'these', 'lovely', 'kittens', 'please', 'adopt', 'them', 'and', 'give', 'them', 'a', 'home', 'sweet', 'home', 'he', 'is', 'a', 'stray', 'dog', 'found']\n"
     ]
    }
   ],
   "source": [
    "#convert the tokens to lowercase\n",
    "wordslc = [word.lower() for word in words]\n",
    "\n",
    "print(wordslc[:100])"
   ]
  },
  {
   "cell_type": "markdown",
   "metadata": {},
   "source": [
    "<div class=\"span5 alert alert-info\">\n",
    "<p> <B>  Create a histogram of sentence lengths </B>  </p>\n",
    "</div>"
   ]
  },
  {
   "cell_type": "code",
   "execution_count": 50,
   "metadata": {},
   "outputs": [
    {
     "name": "stdout",
     "output_type": "stream",
     "text": [
      "Total sentences: 69792\n",
      "Total words: 904004\n"
     ]
    },
    {
     "data": {
      "image/png": "[encoded data removed]",
      "text/plain": [
       "<Figure size 432x288 with 1 Axes>"
      ]
     },
     "metadata": {},
     "output_type": "display_data"
    }
   ],
   "source": [
    "#calculate length of each sentence\n",
    "sentence_length = [len(s) for s in sentences]\n",
    "\n",
    "print('Total sentences: ' + str(len(sentences)))\n",
    "print('Total words: ' + str(len(wordslc)))\n",
    "\n",
    "#plot histogram\n",
    "sns.distplot(sentence_length,hist=True, color='g', axlabel='Sentence Length', kde = False)\n",
    "\n",
    "plt.show()"
   ]
  }
 ],
 "metadata": {
  "kernelspec": {
   "display_name": "Python 3",
   "language": "python",
   "name": "python3"
  },
  "language_info": {
   "codemirror_mode": {
    "name": "ipython",
    "version": 3
   },
   "file_extension": ".py",
   "mimetype": "text/x-python",
   "name": "python",
   "nbconvert_exporter": "python",
   "pygments_lexer": "ipython3",
   "version": "3.6.5"
  }
 },
 "nbformat": 4,
 "nbformat_minor": 2
}
