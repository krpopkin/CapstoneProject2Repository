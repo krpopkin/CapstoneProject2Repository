{
 "cells": [
  {
   "cell_type": "markdown",
   "metadata": {},
   "source": [
    "# About this notebook \n",
    "\n",
    "#### Feature: Name\n",
    "\n",
    "This is one of a series of notebooks (one for each feature of interest) that explores the feature for missing data, data characteristics, correlation with the rate of adoption (predictor variable) and other points of interest that might be helpful to know (and deal with) prior to machine learning."
   ]
  },
  {
   "cell_type": "markdown",
   "metadata": {},
   "source": [
    "<div class=\"span5 alert alert-success\">\n",
    "<p> <I> Feature Description: </I> The \"Name\" data contains the pet's name or blank if the pet is not named.  \n",
    "    <I> Source: </I> https://www.kaggle.com/c/petfinder-adoption-prediction/data  </p>\n",
    "</div>"
   ]
  },
  {
   "cell_type": "markdown",
   "metadata": {},
   "source": [
    "<div class=\"span5 alert alert-success\">\n",
    "<p> <I> Predictor (Adoption Speed) Description: </I> \n",
    "\n",
    "Contestants are required to predict this value. The value is determined by how quickly, if at all, a pet is adopted.   \n",
    "<br> \n",
    "The values are determined in the following way:   \n",
    "0 - Pet was adopted on the same day as it was listed.    \n",
    "1 - Pet was adopted between 1 and 7 days (1st week) after being listed.    \n",
    "2 - Pet was adopted between 8 and 30 days (1st month) after being listed.    \n",
    "3 - Pet was adopted between 31 and 90 days (2nd & 3rd month) after being listed.    \n",
    "4 - No adoption after 100 days of being listed.    \n",
    "\n",
    "</p>\n",
    "</div>"
   ]
  },
  {
   "cell_type": "code",
   "execution_count": 1,
   "metadata": {},
   "outputs": [
    {
     "name": "stdout",
     "output_type": "stream",
     "text": [
      "C:\\Users\\Ken\\Documents\\KenP\\Applications-DataScience\\SpringboardCourseWork\\CapstoneProject2Repository\\09 PetfindersData\\TrainingData\n"
     ]
    }
   ],
   "source": [
    "import warnings\n",
    "warnings.filterwarnings('ignore')\n",
    "\n",
    "%cd C:\\Users\\Ken\\Documents\\KenP\\Applications-DataScience\\SpringboardCourseWork\\CapstoneProject2Repository\\09 PetfindersData\\TrainingData"
   ]
  },
  {
   "cell_type": "markdown",
   "metadata": {},
   "source": [
    "<div class=\"span5 alert alert-info\">\n",
    "<p> <B>  Imports and Data Loading: </B>  </p>\n",
    "</div>"
   ]
  },
  {
   "cell_type": "code",
   "execution_count": 2,
   "metadata": {},
   "outputs": [],
   "source": [
    "#Imports\n",
    "import pandas as pd\n",
    "import numpy as np\n",
    "import matplotlib.pyplot as plt\n",
    "import seaborn as sns"
   ]
  },
  {
   "cell_type": "code",
   "execution_count": 3,
   "metadata": {},
   "outputs": [
    {
     "data": {
      "text/html": [
       "<div>\n",
       "<style scoped>\n",
       "    .dataframe tbody tr th:only-of-type {\n",
       "        vertical-align: middle;\n",
       "    }\n",
       "\n",
       "    .dataframe tbody tr th {\n",
       "        vertical-align: top;\n",
       "    }\n",
       "\n",
       "    .dataframe thead th {\n",
       "        text-align: right;\n",
       "    }\n",
       "</style>\n",
       "<table border=\"1\" class=\"dataframe\">\n",
       "  <thead>\n",
       "    <tr style=\"text-align: right;\">\n",
       "      <th></th>\n",
       "      <th>Type</th>\n",
       "      <th>Name</th>\n",
       "      <th>Age</th>\n",
       "      <th>Breed1</th>\n",
       "      <th>Breed2</th>\n",
       "      <th>Gender</th>\n",
       "      <th>Color1</th>\n",
       "      <th>Color2</th>\n",
       "      <th>Color3</th>\n",
       "      <th>MaturitySize</th>\n",
       "      <th>...</th>\n",
       "      <th>Health</th>\n",
       "      <th>Quantity</th>\n",
       "      <th>Fee</th>\n",
       "      <th>State</th>\n",
       "      <th>RescuerID</th>\n",
       "      <th>VideoAmt</th>\n",
       "      <th>Description</th>\n",
       "      <th>PetID</th>\n",
       "      <th>PhotoAmt</th>\n",
       "      <th>AdoptionSpeed</th>\n",
       "    </tr>\n",
       "  </thead>\n",
       "  <tbody>\n",
       "    <tr>\n",
       "      <th>0</th>\n",
       "      <td>1</td>\n",
       "      <td>Lil Milo</td>\n",
       "      <td>2</td>\n",
       "      <td>0</td>\n",
       "      <td>26</td>\n",
       "      <td>2</td>\n",
       "      <td>2</td>\n",
       "      <td>0</td>\n",
       "      <td>0</td>\n",
       "      <td>2</td>\n",
       "      <td>...</td>\n",
       "      <td>1</td>\n",
       "      <td>1</td>\n",
       "      <td>0</td>\n",
       "      <td>41326</td>\n",
       "      <td>1a2113010d6048d5410b265347b35c91</td>\n",
       "      <td>0</td>\n",
       "      <td>Milo went missing after a week with her new ad...</td>\n",
       "      <td>375905770</td>\n",
       "      <td>3</td>\n",
       "      <td>3</td>\n",
       "    </tr>\n",
       "  </tbody>\n",
       "</table>\n",
       "<p>1 rows × 24 columns</p>\n",
       "</div>"
      ],
      "text/plain": [
       "   Type      Name  Age  Breed1  Breed2  Gender  Color1  Color2  Color3  \\\n",
       "0     1  Lil Milo    2       0      26       2       2       0       0   \n",
       "\n",
       "   MaturitySize      ...        Health  Quantity  Fee  State  \\\n",
       "0             2      ...             1         1    0  41326   \n",
       "\n",
       "                          RescuerID  VideoAmt  \\\n",
       "0  1a2113010d6048d5410b265347b35c91         0   \n",
       "\n",
       "                                         Description      PetID PhotoAmt  \\\n",
       "0  Milo went missing after a week with her new ad...  375905770        3   \n",
       "\n",
       "   AdoptionSpeed  \n",
       "0              3  \n",
       "\n",
       "[1 rows x 24 columns]"
      ]
     },
     "execution_count": 3,
     "metadata": {},
     "output_type": "execute_result"
    }
   ],
   "source": [
    "#Import the csv file\n",
    "\n",
    "dfi = pd.read_csv('train.csv')\n",
    "dfi.head(1)"
   ]
  },
  {
   "cell_type": "markdown",
   "metadata": {},
   "source": [
    "<div class=\"span5 alert alert-info\">\n",
    "<p> <B>  Missing Data: </B>  </p>\n",
    "</div>"
   ]
  },
  {
   "cell_type": "code",
   "execution_count": 4,
   "metadata": {},
   "outputs": [],
   "source": [
    "#Create Type Dataframe\n",
    "\n",
    "dfa = dfi[['Name','AdoptionSpeed']]\n",
    "dfa.columns = ['name','adoptionspeed']"
   ]
  },
  {
   "cell_type": "code",
   "execution_count": 5,
   "metadata": {},
   "outputs": [
    {
     "data": {
      "text/html": [
       "<div>\n",
       "<style scoped>\n",
       "    .dataframe tbody tr th:only-of-type {\n",
       "        vertical-align: middle;\n",
       "    }\n",
       "\n",
       "    .dataframe tbody tr th {\n",
       "        vertical-align: top;\n",
       "    }\n",
       "\n",
       "    .dataframe thead th {\n",
       "        text-align: right;\n",
       "    }\n",
       "</style>\n",
       "<table border=\"1\" class=\"dataframe\">\n",
       "  <thead>\n",
       "    <tr style=\"text-align: right;\">\n",
       "      <th></th>\n",
       "      <th>name</th>\n",
       "      <th>adoptionspeed</th>\n",
       "    </tr>\n",
       "  </thead>\n",
       "  <tbody>\n",
       "    <tr>\n",
       "      <th>% Missing Values</th>\n",
       "      <td>0.083839</td>\n",
       "      <td>0.0</td>\n",
       "    </tr>\n",
       "  </tbody>\n",
       "</table>\n",
       "</div>"
      ],
      "text/plain": [
       "                      name  adoptionspeed\n",
       "% Missing Values  0.083839            0.0"
      ]
     },
     "execution_count": 5,
     "metadata": {},
     "output_type": "execute_result"
    }
   ],
   "source": [
    "# Percentage of missing values in each column\n",
    "pd.DataFrame(\n",
    "    dfa.isnull().sum() / len(dfa),\n",
    "    columns=['% Missing Values']\n",
    ").transpose()"
   ]
  },
  {
   "cell_type": "markdown",
   "metadata": {},
   "source": [
    "<div class=\"span5 alert alert-info\">\n",
    "<p> <B>  Characteristics of the data: </B>  </p>\n",
    "</div>"
   ]
  },
  {
   "cell_type": "code",
   "execution_count": 6,
   "metadata": {},
   "outputs": [],
   "source": [
    "#Function to designate 'name' or 'noname' text in dataframe\n",
    "def funcnameornoname(invalue):\n",
    "    \n",
    "    petname = 999\n",
    "    \n",
    "    if invalue == 'not named':\n",
    "        petname = 0\n",
    "    else:\n",
    "        petname = 1\n",
    "    \n",
    "    return petname        "
   ]
  },
  {
   "cell_type": "code",
   "execution_count": 7,
   "metadata": {},
   "outputs": [
    {
     "data": {
      "text/html": [
       "<div>\n",
       "<style scoped>\n",
       "    .dataframe tbody tr th:only-of-type {\n",
       "        vertical-align: middle;\n",
       "    }\n",
       "\n",
       "    .dataframe tbody tr th {\n",
       "        vertical-align: top;\n",
       "    }\n",
       "\n",
       "    .dataframe thead th {\n",
       "        text-align: right;\n",
       "    }\n",
       "</style>\n",
       "<table border=\"1\" class=\"dataframe\">\n",
       "  <thead>\n",
       "    <tr style=\"text-align: right;\">\n",
       "      <th></th>\n",
       "      <th>name</th>\n",
       "      <th>adoptionspeed</th>\n",
       "      <th>nameornoname</th>\n",
       "    </tr>\n",
       "  </thead>\n",
       "  <tbody>\n",
       "    <tr>\n",
       "      <th>0</th>\n",
       "      <td>Lil Milo</td>\n",
       "      <td>3</td>\n",
       "      <td>1</td>\n",
       "    </tr>\n",
       "  </tbody>\n",
       "</table>\n",
       "</div>"
      ],
      "text/plain": [
       "       name  adoptionspeed  nameornoname\n",
       "0  Lil Milo              3             1"
      ]
     },
     "execution_count": 7,
     "metadata": {},
     "output_type": "execute_result"
    }
   ],
   "source": [
    "#Create a dataframe of names, including a column designating named or not named\n",
    "dfname = dfa[['name','adoptionspeed']]\n",
    "dfname = dfname.reset_index(drop=True)\n",
    "\n",
    "dfname = dfname.fillna('not named')\n",
    "\n",
    "dfname['nameornoname'] = dfname.name.apply(funcnameornoname)\n",
    "dfname.head(1)"
   ]
  },
  {
   "cell_type": "code",
   "execution_count": 8,
   "metadata": {},
   "outputs": [
    {
     "name": "stdout",
     "output_type": "stream",
     "text": [
      "Have name average adoption speed: 2.51\n"
     ]
    }
   ],
   "source": [
    "#Average adoption speed for pet's with names\n",
    "dfhavename = dfname[dfname.nameornoname == 1]\n",
    "\n",
    "havenameavgadoptionspeed = round(dfhavename.adoptionspeed.sum()/dfhavename.nameornoname.count(),2)\n",
    "print('Have name average adoption speed: ' + str(havenameavgadoptionspeed))\n"
   ]
  },
  {
   "cell_type": "code",
   "execution_count": 9,
   "metadata": {},
   "outputs": [
    {
     "name": "stdout",
     "output_type": "stream",
     "text": [
      "No name average adoption speed: 2.6\n"
     ]
    }
   ],
   "source": [
    "#Average adoption speed for no name\n",
    "dfnoname = dfname[dfname.nameornoname == 0]\n",
    "\n",
    "nonameavgadoptionspeed = round(dfnoname.adoptionspeed.sum()/dfnoname.nameornoname.count(),2)\n",
    "print('No name average adoption speed: ' + str(nonameavgadoptionspeed))\n"
   ]
  },
  {
   "cell_type": "markdown",
   "metadata": {},
   "source": [
    "<div class=\"span5 alert alert-info\">\n",
    "<p> <B>  Correlation with the Adoption Rate: </B>  </p>\n",
    "</div>"
   ]
  },
  {
   "cell_type": "code",
   "execution_count": 10,
   "metadata": {},
   "outputs": [],
   "source": [
    "#Create a dataframe to calculate correlation\n",
    "dfaa = dfi[['Name','AdoptionSpeed']]\n",
    "dfaa.columns = ['name','adoptionspeed']"
   ]
  },
  {
   "cell_type": "code",
   "execution_count": 11,
   "metadata": {},
   "outputs": [
    {
     "name": "stdout",
     "output_type": "stream",
     "text": [
      "Correlation value: -2.0%\n"
     ]
    }
   ],
   "source": [
    "#Calculate pearson correlation between pet type and adoption speed\n",
    "def pearson_r(x,y):\n",
    "    corr_mat = np.corrcoef(x,y)\n",
    "\n",
    "    return corr_mat[0,1]\n",
    "\n",
    "# Compute Pearson correlation coefficient\n",
    "r = pearson_r(dfname.nameornoname,dfaa.adoptionspeed)\n",
    "\n",
    "# Print the result\n",
    "print('Correlation value: ' + str(round(r,2)*100) + '%')"
   ]
  },
  {
   "cell_type": "markdown",
   "metadata": {},
   "source": [
    "<div class=\"span5 alert alert-info\">\n",
    "<p> <B>  Other Points of Interest: </B>  </p>\n",
    "</div>"
   ]
  }
 ],
 "metadata": {
  "kernelspec": {
   "display_name": "Python 3",
   "language": "python",
   "name": "python3"
  },
  "language_info": {
   "codemirror_mode": {
    "name": "ipython",
    "version": 3
   },
   "file_extension": ".py",
   "mimetype": "text/x-python",
   "name": "python",
   "nbconvert_exporter": "python",
   "pygments_lexer": "ipython3",
   "version": "3.6.5"
  }
 },
 "nbformat": 4,
 "nbformat_minor": 2
}
