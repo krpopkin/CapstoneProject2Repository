{
 "cells": [
  {
   "cell_type": "markdown",
   "metadata": {},
   "source": [
    "# About this notebook \n",
    "\n",
    "#### Objective: Petfinder Machine Learning - Part 2a\n"
   ]
  },
  {
   "cell_type": "markdown",
   "metadata": {},
   "source": [
    "<div class=\"span5 alert alert-success\">\n",
    "<p> <I> Petfinder Machine Learning: </I> The objective for this report is to share a second round of machine learning results to build a model to predict the speed at which a pet is adopted.  In the second round the following changes to try and improve the model are applied...  \n",
    "<br>\n",
    "1.\tOutliers (pets older than 12 years old are removed from the data)   \n",
    "2.\tScalarization is applied to features where this might help the algorithms produce a better model  \n",
    "3.\tHyper-parameter tuning is applied to the algorithms  \n",
    "4.\tWord-2-Vec is applied to the Pet Description for use in NLP  \n",
    "5.\tAn ensemble combines the best performing non-NLP with the best performing NLP algorithm  \n",
    "    <br>\n",
    "The classification areas are...   \n",
    "    <br>\n",
    "0 - Pet was adopted on the same day it was listed  \n",
    "1 - Pet was adopted between 1 and 7 days (1st week) after being listed  \n",
    "2 - Pet was adopted between 8 and 30 days (1st month) after being listed  \n",
    "3 - Pet was adopted between 31 and 90 days (2nd & 3rd month) after being listed  \n",
    "4 – No adoption after 100 days of being listed. (There are no pets in this dataset that waited between 90 and 100 days   \n",
    " </p>\n",
    "</div>"
   ]
  },
  {
   "cell_type": "markdown",
   "metadata": {},
   "source": [
    "<div class=\"span5 alert alert-success\">\n",
    "<p> <I> Data fields: </I> For a list of the features available to predict the adoption rate visit the source data at: <br>   https://www.kaggle.com/c/petfinder-adoption-prediction/data \n",
    " </p>\n",
    "</div>"
   ]
  },
  {
   "cell_type": "markdown",
   "metadata": {},
   "source": [
    "<div class=\"span5 alert alert-info\">\n",
    "<p> <B>  Imports and Data Loading: </B>  </p>\n",
    "</div>"
   ]
  },
  {
   "cell_type": "code",
   "execution_count": 126,
   "metadata": {},
   "outputs": [
    {
     "name": "stdout",
     "output_type": "stream",
     "text": [
      "C:\\Users\\Ken\\Documents\\KenP\\Applications-DataScience\\SpringboardCourseWork\\CapstoneProject2Repository\\09 PetfindersData\\TrainingData\n"
     ]
    }
   ],
   "source": [
    "import warnings\n",
    "warnings.filterwarnings('ignore')\n",
    "\n",
    "%cd C:\\Users\\Ken\\Documents\\KenP\\Applications-DataScience\\SpringboardCourseWork\\CapstoneProject2Repository\\09 PetfindersData\\TrainingData"
   ]
  },
  {
   "cell_type": "code",
   "execution_count": 127,
   "metadata": {},
   "outputs": [],
   "source": [
    "#Imports\n",
    "import pandas as pd\n",
    "import numpy as np\n",
    "from sklearn.linear_model import LogisticRegression\n",
    "\n",
    "from sklearn.discriminant_analysis import LinearDiscriminantAnalysis\n",
    "from sklearn.preprocessing import scale\n",
    "\n",
    "from sklearn.neighbors import KNeighborsClassifier \n",
    "\n",
    "from sklearn.naive_bayes import GaussianNB\n",
    "\n",
    "from sklearn.ensemble import RandomForestClassifier\n",
    "\n",
    "from xgboost import XGBClassifier\n",
    "from xgboost import plot_importance\n",
    "from matplotlib import pyplot\n",
    "\n",
    "from sklearn import svm\n",
    "\n",
    "from sklearn.metrics import classification_report\n",
    "from sklearn.metrics import confusion_matrix\n",
    "from sklearn.metrics import accuracy_score\n",
    "\n",
    "from sklearn.model_selection import train_test_split\n",
    "from sklearn.model_selection import KFold\n",
    "from sklearn.model_selection import cross_val_score"
   ]
  },
  {
   "cell_type": "code",
   "execution_count": 128,
   "metadata": {},
   "outputs": [],
   "source": [
    "#Import the csv file\n",
    "dfi = pd.read_csv('train.csv')"
   ]
  },
  {
   "cell_type": "markdown",
   "metadata": {},
   "source": [
    "<div class=\"span5 alert alert-info\">\n",
    "<p> <B>  Remove Outliers (pets older than 12 years old are removed from the data) </B> \n",
    "\n",
    "</p>\n",
    "</div>"
   ]
  },
  {
   "cell_type": "code",
   "execution_count": 129,
   "metadata": {},
   "outputs": [
    {
     "name": "stdout",
     "output_type": "stream",
     "text": [
      "Total pets with outliers included:14993\n",
      "\n",
      "Total pets with outliers deleted:14978\n",
      "\n",
      "Total pets removed: 15\n"
     ]
    }
   ],
   "source": [
    "dfi2 = dfi[dfi.Age < (12 * 12)]\n",
    "\n",
    "print('Total pets with outliers included:' + str(dfi.Age.count()))\n",
    "print()\n",
    "print('Total pets with outliers deleted:' + str(dfi2.Age.count()))\n",
    "print()\n",
    "print('Total pets removed: ' + str(dfi.Age.count() - dfi2.Age.count()))"
   ]
  },
  {
   "cell_type": "markdown",
   "metadata": {},
   "source": [
    "<div class=\"span5 alert alert-info\">\n",
    "<p> <B>  Machine Learning: </B> \n",
    "\n",
    "</p>\n",
    "</div>"
   ]
  },
  {
   "cell_type": "markdown",
   "metadata": {},
   "source": [
    "<div class=\"span5 alert alert-success\">\n",
    "<p> Prepare to run the algorithms\n",
    " </p>\n",
    "</div>"
   ]
  },
  {
   "cell_type": "code",
   "execution_count": 130,
   "metadata": {},
   "outputs": [
    {
     "data": {
      "text/html": [
       "<div>\n",
       "<style scoped>\n",
       "    .dataframe tbody tr th:only-of-type {\n",
       "        vertical-align: middle;\n",
       "    }\n",
       "\n",
       "    .dataframe tbody tr th {\n",
       "        vertical-align: top;\n",
       "    }\n",
       "\n",
       "    .dataframe thead th {\n",
       "        text-align: right;\n",
       "    }\n",
       "</style>\n",
       "<table border=\"1\" class=\"dataframe\">\n",
       "  <thead>\n",
       "    <tr style=\"text-align: right;\">\n",
       "      <th></th>\n",
       "      <th>Type</th>\n",
       "      <th>Age</th>\n",
       "      <th>Breed1</th>\n",
       "      <th>Breed2</th>\n",
       "      <th>Gender</th>\n",
       "      <th>Color1</th>\n",
       "      <th>Color2</th>\n",
       "      <th>Color3</th>\n",
       "      <th>MaturitySize</th>\n",
       "      <th>FurLength</th>\n",
       "      <th>Vaccinated</th>\n",
       "      <th>Dewormed</th>\n",
       "      <th>Sterilized</th>\n",
       "      <th>Health</th>\n",
       "      <th>Quantity</th>\n",
       "      <th>Fee</th>\n",
       "      <th>State</th>\n",
       "      <th>VideoAmt</th>\n",
       "      <th>PhotoAmt</th>\n",
       "      <th>AdoptionSpeed</th>\n",
       "    </tr>\n",
       "  </thead>\n",
       "  <tbody>\n",
       "    <tr>\n",
       "      <th>0</th>\n",
       "      <td>1</td>\n",
       "      <td>2</td>\n",
       "      <td>0</td>\n",
       "      <td>26</td>\n",
       "      <td>2</td>\n",
       "      <td>2</td>\n",
       "      <td>0</td>\n",
       "      <td>0</td>\n",
       "      <td>2</td>\n",
       "      <td>1</td>\n",
       "      <td>1</td>\n",
       "      <td>1</td>\n",
       "      <td>2</td>\n",
       "      <td>1</td>\n",
       "      <td>1</td>\n",
       "      <td>0</td>\n",
       "      <td>41326</td>\n",
       "      <td>0</td>\n",
       "      <td>3</td>\n",
       "      <td>3</td>\n",
       "    </tr>\n",
       "  </tbody>\n",
       "</table>\n",
       "</div>"
      ],
      "text/plain": [
       "   Type  Age  Breed1  Breed2  Gender  Color1  Color2  Color3  MaturitySize  \\\n",
       "0     1    2       0      26       2       2       0       0             2   \n",
       "\n",
       "   FurLength  Vaccinated  Dewormed  Sterilized  Health  Quantity  Fee  State  \\\n",
       "0          1           1         1           2       1         1    0  41326   \n",
       "\n",
       "   VideoAmt  PhotoAmt  AdoptionSpeed  \n",
       "0         0         3              3  "
      ]
     },
     "execution_count": 130,
     "metadata": {},
     "output_type": "execute_result"
    }
   ],
   "source": [
    "#Drop the columns that are not needed\n",
    "dfm = dfi2.drop(['Name','RescuerID','Description','PetID'],axis=1)\n",
    "dfm.head(1)"
   ]
  },
  {
   "cell_type": "code",
   "execution_count": 131,
   "metadata": {},
   "outputs": [],
   "source": [
    "#Create the array\n",
    "array = dfm.values\n",
    "X = array[:,0:19]\n",
    "Y = array[:,19]"
   ]
  },
  {
   "cell_type": "code",
   "execution_count": 132,
   "metadata": {},
   "outputs": [],
   "source": [
    "#Apply scaling\n",
    "X_scaled = scale(X)"
   ]
  },
  {
   "cell_type": "code",
   "execution_count": 133,
   "metadata": {},
   "outputs": [],
   "source": [
    "#Create a training and test data set\n",
    "test_size = 0.33\n",
    "seed = 7\n",
    "X_train, X_test, Y_train, Y_test = train_test_split(X_scaled, Y, test_size=test_size,\n",
    "random_state=seed)"
   ]
  },
  {
   "cell_type": "markdown",
   "metadata": {},
   "source": [
    "<div class=\"span5 alert alert-success\">\n",
    "<p> Algorithm 1: Logistic Regression\n",
    " </p>\n",
    "</div>"
   ]
  },
  {
   "cell_type": "code",
   "execution_count": 134,
   "metadata": {},
   "outputs": [
    {
     "data": {
      "text/plain": [
       "LogisticRegression(C=1.0, class_weight=None, dual=False, fit_intercept=True,\n",
       "          intercept_scaling=1, max_iter=100, multi_class='multinomial',\n",
       "          n_jobs=1, penalty='l2', random_state=None, solver='newton-cg',\n",
       "          tol=0.0001, verbose=0, warm_start=False)"
      ]
     },
     "execution_count": 134,
     "metadata": {},
     "output_type": "execute_result"
    }
   ],
   "source": [
    "#Algorithm 1: Fit the model\n",
    "model = LogisticRegression(multi_class='multinomial', solver='newton-cg')\n",
    "\n",
    "model.fit(X_train,Y_train)"
   ]
  },
  {
   "cell_type": "code",
   "execution_count": 135,
   "metadata": {},
   "outputs": [],
   "source": [
    "#Algorithm 1: Predict the labels of the test set\n",
    "Y_pred = model.predict(X_test)"
   ]
  },
  {
   "cell_type": "code",
   "execution_count": 136,
   "metadata": {
    "scrolled": true
   },
   "outputs": [
    {
     "name": "stdout",
     "output_type": "stream",
     "text": [
      "CONFUSION MATRIX FOR LOGISTIC REGRESSION\n",
      "[[  0  35  45   5  45]\n",
      " [  0 224 347  74 356]\n",
      " [  0 209 450 123 557]\n",
      " [  0 132 333 175 456]\n",
      " [  0 153 243  94 887]]\n",
      "\n",
      "CLASSIFICATION REPORT\n",
      "             precision    recall  f1-score   support\n",
      "\n",
      "          0       0.00      0.00      0.00       130\n",
      "          1       0.30      0.22      0.26      1001\n",
      "          2       0.32      0.34      0.33      1339\n",
      "          3       0.37      0.16      0.22      1096\n",
      "          4       0.39      0.64      0.48      1377\n",
      "\n",
      "avg / total       0.34      0.35      0.32      4943\n",
      "\n",
      "\n",
      "ACCURACY SCORE\n",
      "0.35120372243576775\n"
     ]
    }
   ],
   "source": [
    "#Algorithm 1: Score the model\n",
    "print('CONFUSION MATRIX FOR LOGISTIC REGRESSION')\n",
    "print(confusion_matrix(Y_test, Y_pred))\n",
    "\n",
    "print()\n",
    "\n",
    "print('CLASSIFICATION REPORT')\n",
    "print(classification_report(Y_test, Y_pred))\n",
    "\n",
    "print()\n",
    "\n",
    "print('ACCURACY SCORE')\n",
    "print(accuracy_score(Y_test,Y_pred))"
   ]
  },
  {
   "cell_type": "markdown",
   "metadata": {},
   "source": [
    "<div class=\"span5 alert alert-success\">\n",
    "<p> Algorithm 2: K Nearest Neighbors (KNN)\n",
    " </p>\n",
    "</div>"
   ]
  },
  {
   "cell_type": "code",
   "execution_count": 137,
   "metadata": {},
   "outputs": [
    {
     "data": {
      "text/plain": [
       "KNeighborsClassifier(algorithm='auto', leaf_size=30, metric='minkowski',\n",
       "           metric_params=None, n_jobs=1, n_neighbors=3, p=2,\n",
       "           weights='uniform')"
      ]
     },
     "execution_count": 137,
     "metadata": {},
     "output_type": "execute_result"
    }
   ],
   "source": [
    "#Algorithm 2: Fit the model\n",
    "model = KNeighborsClassifier(n_neighbors=3)\n",
    "\n",
    "model.fit(X_train,Y_train)"
   ]
  },
  {
   "cell_type": "code",
   "execution_count": 138,
   "metadata": {},
   "outputs": [],
   "source": [
    "#Algorithm 2: Predict the labels of the test set\n",
    "Y_pred = model.predict(X_test)"
   ]
  },
  {
   "cell_type": "code",
   "execution_count": 139,
   "metadata": {},
   "outputs": [
    {
     "name": "stdout",
     "output_type": "stream",
     "text": [
      "CONFUSION MATRIX FOR KNN\n",
      "[[ 14  61  31   8  16]\n",
      " [ 64 416 268 102 151]\n",
      " [ 62 496 400 152 229]\n",
      " [ 53 352 289 212 190]\n",
      " [ 63 389 338 135 452]]\n",
      "\n",
      "CLASSIFICATION REPORT\n",
      "             precision    recall  f1-score   support\n",
      "\n",
      "          0       0.05      0.11      0.07       130\n",
      "          1       0.24      0.42      0.31      1001\n",
      "          2       0.30      0.30      0.30      1339\n",
      "          3       0.35      0.19      0.25      1096\n",
      "          4       0.44      0.33      0.37      1377\n",
      "\n",
      "avg / total       0.33      0.30      0.30      4943\n",
      "\n",
      "\n",
      "ACCURACY SCORE\n",
      "0.30224559983815497\n"
     ]
    }
   ],
   "source": [
    "#Algorithm 2: Score the model\n",
    "print('CONFUSION MATRIX FOR KNN')\n",
    "print(confusion_matrix(Y_test, Y_pred))\n",
    "\n",
    "print()\n",
    "\n",
    "print('CLASSIFICATION REPORT')\n",
    "print(classification_report(Y_test, Y_pred))\n",
    "\n",
    "print()\n",
    "\n",
    "print('ACCURACY SCORE')\n",
    "print(accuracy_score(Y_test,Y_pred))"
   ]
  },
  {
   "cell_type": "markdown",
   "metadata": {},
   "source": [
    "<div class=\"span5 alert alert-success\">\n",
    "<p> Algorithm 3: Naive Bayes\n",
    " </p>\n",
    "</div>"
   ]
  },
  {
   "cell_type": "code",
   "execution_count": 140,
   "metadata": {},
   "outputs": [
    {
     "data": {
      "text/plain": [
       "GaussianNB(priors=None)"
      ]
     },
     "execution_count": 140,
     "metadata": {},
     "output_type": "execute_result"
    }
   ],
   "source": [
    "#Algorithm 3: Fit the model\n",
    "model = GaussianNB()\n",
    "\n",
    "model.fit(X_train,Y_train)"
   ]
  },
  {
   "cell_type": "code",
   "execution_count": 141,
   "metadata": {},
   "outputs": [],
   "source": [
    "#Algorithm 3: Predict the labels of the test set\n",
    "Y_pred = model.predict(X_test)"
   ]
  },
  {
   "cell_type": "code",
   "execution_count": 142,
   "metadata": {},
   "outputs": [
    {
     "name": "stdout",
     "output_type": "stream",
     "text": [
      "CONFUSION MATRIX FOR NAIVE-BAYES\n",
      "[[  0  73  25   5  27]\n",
      " [ 23 489 210  91 188]\n",
      " [ 25 470 351 135 358]\n",
      " [ 26 313 281 153 323]\n",
      " [ 17 309 253 114 684]]\n",
      "\n",
      "CLASSIFICATION REPORT\n",
      "             precision    recall  f1-score   support\n",
      "\n",
      "          0       0.00      0.00      0.00       130\n",
      "          1       0.30      0.49      0.37      1001\n",
      "          2       0.31      0.26      0.29      1339\n",
      "          3       0.31      0.14      0.19      1096\n",
      "          4       0.43      0.50      0.46      1377\n",
      "\n",
      "avg / total       0.33      0.34      0.32      4943\n",
      "\n",
      "\n",
      "ACCURACY SCORE\n",
      "0.3392676512239531\n"
     ]
    }
   ],
   "source": [
    "#Algorithm 3: Score the model\n",
    "print('CONFUSION MATRIX FOR NAIVE-BAYES')\n",
    "print(confusion_matrix(Y_test, Y_pred))\n",
    "\n",
    "print()\n",
    "\n",
    "print('CLASSIFICATION REPORT')\n",
    "print(classification_report(Y_test, Y_pred))\n",
    "\n",
    "print()\n",
    "\n",
    "print('ACCURACY SCORE')\n",
    "print(accuracy_score(Y_test,Y_pred))"
   ]
  },
  {
   "cell_type": "markdown",
   "metadata": {},
   "source": [
    "<div class=\"span5 alert alert-success\">\n",
    "<p> Algorithm 4: Random Forest Classifier\n",
    " </p>\n",
    "</div>"
   ]
  },
  {
   "cell_type": "code",
   "execution_count": 143,
   "metadata": {},
   "outputs": [
    {
     "data": {
      "text/plain": [
       "RandomForestClassifier(bootstrap=True, class_weight=None, criterion='gini',\n",
       "            max_depth=None, max_features='auto', max_leaf_nodes=None,\n",
       "            min_impurity_decrease=0.0, min_impurity_split=None,\n",
       "            min_samples_leaf=1, min_samples_split=2,\n",
       "            min_weight_fraction_leaf=0.0, n_estimators=10, n_jobs=1,\n",
       "            oob_score=False, random_state=None, verbose=0,\n",
       "            warm_start=False)"
      ]
     },
     "execution_count": 143,
     "metadata": {},
     "output_type": "execute_result"
    }
   ],
   "source": [
    "#Algorithm 4: Fit the model\n",
    "model = RandomForestClassifier()\n",
    "\n",
    "model.fit(X_train,Y_train)"
   ]
  },
  {
   "cell_type": "code",
   "execution_count": 144,
   "metadata": {},
   "outputs": [],
   "source": [
    "#Algorithm 4: Predict the labels of the test set\n",
    "Y_pred = model.predict(X_test)"
   ]
  },
  {
   "cell_type": "code",
   "execution_count": 145,
   "metadata": {},
   "outputs": [
    {
     "name": "stdout",
     "output_type": "stream",
     "text": [
      "CONFUSION MATRIX FOR RANDOM FOREST CLASSIFIER\n",
      "[[  5  53  32  18  22]\n",
      " [ 20 359 287 142 193]\n",
      " [ 13 347 451 252 276]\n",
      " [ 10 238 317 287 244]\n",
      " [  8 194 309 178 688]]\n",
      "\n",
      "CLASSIFICATION REPORT\n",
      "             precision    recall  f1-score   support\n",
      "\n",
      "          0       0.09      0.04      0.05       130\n",
      "          1       0.30      0.36      0.33      1001\n",
      "          2       0.32      0.34      0.33      1339\n",
      "          3       0.33      0.26      0.29      1096\n",
      "          4       0.48      0.50      0.49      1377\n",
      "\n",
      "avg / total       0.36      0.36      0.36      4943\n",
      "\n",
      "\n",
      "ACCURACY SCORE\n",
      "0.36212826218895405\n"
     ]
    }
   ],
   "source": [
    "#Algorithm 4: Score the model\n",
    "print('CONFUSION MATRIX FOR RANDOM FOREST CLASSIFIER')\n",
    "print(confusion_matrix(Y_test, Y_pred))\n",
    "\n",
    "print()\n",
    "\n",
    "print('CLASSIFICATION REPORT')\n",
    "print(classification_report(Y_test, Y_pred))\n",
    "\n",
    "print()\n",
    "\n",
    "print('ACCURACY SCORE')\n",
    "print(accuracy_score(Y_test,Y_pred))"
   ]
  },
  {
   "cell_type": "markdown",
   "metadata": {},
   "source": [
    "<div class=\"span5 alert alert-success\">\n",
    "<p> Algorithm 5: XGBoost\n",
    " </p>\n",
    "</div>"
   ]
  },
  {
   "cell_type": "code",
   "execution_count": 146,
   "metadata": {},
   "outputs": [
    {
     "data": {
      "text/plain": [
       "XGBClassifier(base_score=0.5, booster='gbtree', colsample_bylevel=1,\n",
       "       colsample_bytree=1, gamma=0, learning_rate=0.1, max_delta_step=0,\n",
       "       max_depth=3, min_child_weight=1, missing=None, n_estimators=100,\n",
       "       n_jobs=1, nthread=None, objective='multi:softprob', random_state=0,\n",
       "       reg_alpha=0, reg_lambda=1, scale_pos_weight=1, seed=None,\n",
       "       silent=True, subsample=1)"
      ]
     },
     "execution_count": 146,
     "metadata": {},
     "output_type": "execute_result"
    }
   ],
   "source": [
    "#Algorithm 5: Fit the model\n",
    "model = XGBClassifier()\n",
    "\n",
    "model.fit(X_train,Y_train)"
   ]
  },
  {
   "cell_type": "code",
   "execution_count": 147,
   "metadata": {},
   "outputs": [],
   "source": [
    "#Algorithm 5: Predict the labels of the test set\n",
    "Y_pred = model.predict(X_test)"
   ]
  },
  {
   "cell_type": "code",
   "execution_count": 148,
   "metadata": {},
   "outputs": [
    {
     "name": "stdout",
     "output_type": "stream",
     "text": [
      "CONFUSION MATRIX FOR RANDOM FOREST CLASSIFIER\n",
      "[[  1  51  36   1  41]\n",
      " [  0 311 392  57 241]\n",
      " [  0 240 579 135 385]\n",
      " [  0 168 391 171 366]\n",
      " [  0 110 294  58 915]]\n",
      "\n",
      "CLASSIFICATION REPORT\n",
      "             precision    recall  f1-score   support\n",
      "\n",
      "          0       1.00      0.01      0.02       130\n",
      "          1       0.35      0.31      0.33      1001\n",
      "          2       0.34      0.43      0.38      1339\n",
      "          3       0.41      0.16      0.23      1096\n",
      "          4       0.47      0.66      0.55      1377\n",
      "\n",
      "avg / total       0.41      0.40      0.37      4943\n",
      "\n",
      "\n",
      "ACCURACY SCORE\n",
      "0.39995953874165485\n"
     ]
    }
   ],
   "source": [
    "#Algorithm 5: Score the model\n",
    "print('CONFUSION MATRIX FOR RANDOM FOREST CLASSIFIER')\n",
    "print(confusion_matrix(Y_test, Y_pred))\n",
    "\n",
    "print()\n",
    "\n",
    "print('CLASSIFICATION REPORT')\n",
    "print(classification_report(Y_test, Y_pred))\n",
    "\n",
    "print()\n",
    "\n",
    "print('ACCURACY SCORE')\n",
    "print(accuracy_score(Y_test,Y_pred))"
   ]
  },
  {
   "cell_type": "markdown",
   "metadata": {},
   "source": [
    "<div class=\"span5 alert alert-info\">\n",
    "<p> <B> Feature Importance: </B> \n",
    "\n",
    "</p>\n",
    "</div>"
   ]
  },
  {
   "cell_type": "markdown",
   "metadata": {},
   "source": [
    "<div class=\"span5 alert alert-success\">\n",
    "<p> Use XGBoost to evaluate feature importance\n",
    " </p>\n",
    "</div>"
   ]
  },
  {
   "cell_type": "code",
   "execution_count": 149,
   "metadata": {},
   "outputs": [],
   "source": [
    "#Display the feature names from the adoption dataframe\n",
    "feature_names = list(dfm.columns)\n",
    "#print(feature_names)"
   ]
  },
  {
   "cell_type": "code",
   "execution_count": 150,
   "metadata": {},
   "outputs": [],
   "source": [
    "#Display the feature importance scores\n",
    "feature_importance = model.feature_importances_\n",
    "#print(feature_importance)"
   ]
  },
  {
   "cell_type": "code",
   "execution_count": 151,
   "metadata": {},
   "outputs": [],
   "source": [
    "#Use zip to combine the feature names and importance scores; then generate a dataframe of this information\n",
    "feature_names_and_scores = list(zip(feature_names,feature_importance))\n",
    "\n",
    "dffi = pd.DataFrame(feature_names_and_scores)\n",
    "dffi.columns = ['feature','importance']\n",
    "dffi = dffi.sort_values(by='importance',ascending=False)\n",
    "dffi = dffi.set_index('feature')"
   ]
  },
  {
   "cell_type": "code",
   "execution_count": 152,
   "metadata": {},
   "outputs": [
    {
     "data": {
      "image/png": "[encoded data removed]",
      "text/plain": [
       "<Figure size 720x360 with 1 Axes>"
      ]
     },
     "metadata": {},
     "output_type": "display_data"
    }
   ],
   "source": [
    "#Create a bar chart of feature importance\n",
    "ax = dffi.plot(kind='bar', title =\"Feature Importance\", figsize=(10, 5), legend=True, fontsize=12)\n",
    "ax.set_xlabel(\"Feature\", fontsize=12)\n",
    "ax.set_ylabel(\"Importance\", fontsize=12)\n",
    "pyplot.show()"
   ]
  },
  {
   "cell_type": "code",
   "execution_count": null,
   "metadata": {},
   "outputs": [],
   "source": []
  }
 ],
 "metadata": {
  "kernelspec": {
   "display_name": "Python 3",
   "language": "python",
   "name": "python3"
  },
  "language_info": {
   "codemirror_mode": {
    "name": "ipython",
    "version": 3
   },
   "file_extension": ".py",
   "mimetype": "text/x-python",
   "name": "python",
   "nbconvert_exporter": "python",
   "pygments_lexer": "ipython3",
   "version": "3.6.5"
  }
 },
 "nbformat": 4,
 "nbformat_minor": 2
}
